{
 "cells": [
  {
   "cell_type": "code",
   "execution_count": 21,
   "id": "825dcc68",
   "metadata": {},
   "outputs": [
    {
     "ename": "ModuleNotFoundError",
     "evalue": "No module named 'django'",
     "output_type": "error",
     "traceback": [
      "\u001b[1;31m---------------------------------------------------------------------------\u001b[0m",
      "\u001b[1;31mModuleNotFoundError\u001b[0m                       Traceback (most recent call last)",
      "\u001b[1;32m~\\AppData\\Local\\Temp\\ipykernel_6804\\3423470519.py\u001b[0m in \u001b[0;36m<module>\u001b[1;34m\u001b[0m\n\u001b[0;32m      1\u001b[0m \u001b[1;32mimport\u001b[0m \u001b[0mpandas\u001b[0m \u001b[1;32mas\u001b[0m \u001b[0mpd\u001b[0m\u001b[1;33m\u001b[0m\u001b[1;33m\u001b[0m\u001b[0m\n\u001b[1;32m----> 2\u001b[1;33m \u001b[1;32mfrom\u001b[0m \u001b[0mmembers\u001b[0m\u001b[1;33m.\u001b[0m\u001b[0mmodels\u001b[0m \u001b[1;32mimport\u001b[0m \u001b[0mClub\u001b[0m\u001b[1;33m,\u001b[0m \u001b[0mPlayer\u001b[0m\u001b[1;33m,\u001b[0m \u001b[0mFoot\u001b[0m\u001b[1;33m,\u001b[0m \u001b[0mFieldPosition\u001b[0m\u001b[1;33m,\u001b[0m \u001b[0mProficiency\u001b[0m\u001b[1;33m,\u001b[0m \u001b[0mMember\u001b[0m\u001b[1;33m\u001b[0m\u001b[1;33m\u001b[0m\u001b[0m\n\u001b[0m\u001b[0;32m      3\u001b[0m \u001b[1;33m\u001b[0m\u001b[0m\n\u001b[0;32m      4\u001b[0m \u001b[1;32mdef\u001b[0m \u001b[0mwrite\u001b[0m\u001b[1;33m(\u001b[0m\u001b[1;33m)\u001b[0m\u001b[1;33m:\u001b[0m\u001b[1;33m\u001b[0m\u001b[1;33m\u001b[0m\u001b[0m\n\u001b[0;32m      5\u001b[0m     \u001b[0mdf\u001b[0m \u001b[1;33m=\u001b[0m \u001b[0mpd\u001b[0m\u001b[1;33m.\u001b[0m\u001b[0mread_csv\u001b[0m\u001b[1;33m(\u001b[0m\u001b[1;34m\"members/input.csv\"\u001b[0m\u001b[1;33m)\u001b[0m\u001b[1;33m\u001b[0m\u001b[1;33m\u001b[0m\u001b[0m\n",
      "\u001b[1;32m~\\webdev\\weekendwarriors\\weekendwarriors\\members\\models.py\u001b[0m in \u001b[0;36m<module>\u001b[1;34m\u001b[0m\n\u001b[1;32m----> 1\u001b[1;33m \u001b[1;32mfrom\u001b[0m \u001b[0mdjango\u001b[0m\u001b[1;33m.\u001b[0m\u001b[0mdb\u001b[0m \u001b[1;32mimport\u001b[0m \u001b[0mmodels\u001b[0m\u001b[1;33m\u001b[0m\u001b[1;33m\u001b[0m\u001b[0m\n\u001b[0m\u001b[0;32m      2\u001b[0m \u001b[1;32mfrom\u001b[0m \u001b[0mdjango\u001b[0m\u001b[1;33m.\u001b[0m\u001b[0mcontrib\u001b[0m\u001b[1;33m.\u001b[0m\u001b[0mauth\u001b[0m\u001b[1;33m.\u001b[0m\u001b[0mmodels\u001b[0m \u001b[1;32mimport\u001b[0m \u001b[0mUser\u001b[0m\u001b[1;33m\u001b[0m\u001b[1;33m\u001b[0m\u001b[0m\n\u001b[0;32m      3\u001b[0m \u001b[1;33m\u001b[0m\u001b[0m\n\u001b[0;32m      4\u001b[0m \u001b[1;31m# Create your models here.\u001b[0m\u001b[1;33m\u001b[0m\u001b[1;33m\u001b[0m\u001b[0m\n\u001b[0;32m      5\u001b[0m \u001b[1;33m\u001b[0m\u001b[0m\n",
      "\u001b[1;31mModuleNotFoundError\u001b[0m: No module named 'django'"
     ]
    }
   ],
   "source": [
    "import pandas as pd\n",
    "from members.models import Club, Player, Foot, FieldPosition, Proficiency, Member\n",
    "\n",
    "def write():\n",
    "    df = pd.read_csv(\"members/input.csv\")\n",
    "\n",
    "    for index, row in df.iterrows():\n",
    "        (\n",
    "            first_name,\n",
    "            last_name,\n",
    "            image,\n",
    "            number,\n",
    "            favorite_club,\n",
    "            favorite_player,\n",
    "            preferred_foot,\n",
    "            preferred_field_position,\n",
    "            secondary_field_position,\n",
    "            football_proficiency\n",
    "        ) = row.values\n",
    "        football_proficiency = football_proficiency.replace(\"?\",\"⭐\")\n",
    "        objClub, statusClub = Club.objects.get_or_create(club=favorite_club)\n",
    "        objPlayer, statusPlayer = Player.objects.get_or_create(player=favorite_player)\n",
    "        objFoot, statusFoot = Foot.objects.get_or_create(foot=preferred_foot)\n",
    "        objPreferredFieldPosition, statusFieldPosition = FieldPosition.objects.get_or_create(position=preferred_field_position)\n",
    "        objSecondaryFieldPosition,statusFieldPosition = FieldPosition.objects.get_or_create(position=secondary_field_position)\n",
    "        objProficiency, statusProficiency = Proficiency.objects.get_or_create(pro_level=football_proficiency)\n",
    "\n",
    "        objMember, statusMember = Member.objects.get_or_create(\n",
    "            first_name=first_name,\n",
    "            last_name=last_name,\n",
    "            image=image,\n",
    "            number=number,\n",
    "            favorite_club=objClub,\n",
    "            favorite_player=objPlayer,\n",
    "            preferred_foot=objFoot,\n",
    "            preferred_field_position=objPreferredFieldPosition,\n",
    "            secondary_field_position=objSecondaryFieldPosition,\n",
    "            football_proficiency=objProficiency,\n",
    "        )"
   ]
  }
 ],
 "metadata": {
  "kernelspec": {
   "display_name": "Python 3 (ipykernel)",
   "language": "python",
   "name": "python3"
  },
  "language_info": {
   "codemirror_mode": {
    "name": "ipython",
    "version": 3
   },
   "file_extension": ".py",
   "mimetype": "text/x-python",
   "name": "python",
   "nbconvert_exporter": "python",
   "pygments_lexer": "ipython3",
   "version": "3.9.13"
  }
 },
 "nbformat": 4,
 "nbformat_minor": 5
}
